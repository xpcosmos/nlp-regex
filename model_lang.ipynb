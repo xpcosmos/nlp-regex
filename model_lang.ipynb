{
 "cells": [
  {
   "attachments": {},
   "cell_type": "markdown",
   "metadata": {},
   "source": [
    "### Introdução\n",
    "\n",
    "O presente projeto tem o objetivo de aplicar técnicas de Regex com uso da linguagen Python. \n",
    "\n",
    "Bibliotecas utilizadas:\n",
    "\n",
    "* re\n",
    "* Pandas\n",
    "\n",
    "---"
   ]
  },
  {
   "attachments": {},
   "cell_type": "markdown",
   "metadata": {},
   "source": [
    "# Importação dos dados"
   ]
  },
  {
   "cell_type": "code",
   "execution_count": 1,
   "metadata": {},
   "outputs": [],
   "source": [
    "import pandas as pd\n",
    "import re"
   ]
  },
  {
   "cell_type": "code",
   "execution_count": 3,
   "metadata": {},
   "outputs": [],
   "source": [
    "df_portugues = pd.read_csv('../dados/stackoverflow_portugues.csv')\n",
    "df_espanhol = pd.read_csv('../dados/stackoverflow_espanhol.csv')\n",
    "df_ingles = pd.read_csv('../dados/stackoverflow_ingles.csv')"
   ]
  },
  {
   "attachments": {},
   "cell_type": "markdown",
   "metadata": {},
   "source": [
    "# Introdução a Regex"
   ]
  },
  {
   "cell_type": "code",
   "execution_count": 31,
   "metadata": {},
   "outputs": [
    {
     "name": "stdout",
     "output_type": "stream",
     "text": [
      "<p>Desenvolvi uma página em PHP para uso interno da empresa que trabalho e apenas pouquíssimas pessoas a utilizam. Através dessa página é possível fazer algumas consultas, inserções, alterações e remoções de dados de uma tabela em um banco de dados MySQL, porém eu acredito que meu código em PHP não está protegido contra injeção de código SQL, por exemplo:</p>\n",
      "\n",
      "<pre><code>//----CONSULTA SQL----//\n",
      "$busca = mysql_query ('insert into Produtos (coluna) values(' . $valor . ')');\n",
      "</code></pre>\n",
      "\n",
      "<p>Logo, digamos que o usuário usar a sentença: <code>1); DROP TABLE Produtos;</code> para ao campo <code>valor</code> o comando ficaria: </p>\n",
      "\n",
      "<pre><code>insert into Produtos (coluna) values(1); DROP TABLE Produtos;\n",
      "</code></pre>\n",
      "\n",
      "<p>Ele vai inserir um novo registro cujo o campo <code>coluna</code> será <code>1</code> e logo em seguida ele vai deletar a tabela Produtos.</p>\n",
      "\n",
      "<p>Como posso melhorar meu código para prevenir essa situação?</p>\n",
      "\n"
     ]
    }
   ],
   "source": [
    "quest_pt = df_portugues['Questão'][5]\n",
    "quest_es = df_espanhol['Questão'][5]\n",
    "quest_en = df_ingles['Questão'][5]\n",
    "print(quest_pt)"
   ]
  },
  {
   "cell_type": "code",
   "execution_count": 12,
   "metadata": {},
   "outputs": [
    {
     "data": {
      "text/plain": [
       "['<p>',\n",
       " '</p>',\n",
       " '<pre>',\n",
       " '<code>',\n",
       " '</code>',\n",
       " '</pre>',\n",
       " '<p>',\n",
       " '<code>',\n",
       " '</code>',\n",
       " '<code>',\n",
       " '</code>',\n",
       " '</p>',\n",
       " '<pre>',\n",
       " '<code>',\n",
       " '</code>',\n",
       " '</pre>',\n",
       " '<p>',\n",
       " '<code>',\n",
       " '</code>',\n",
       " '<code>',\n",
       " '</code>',\n",
       " '</p>',\n",
       " '<p>',\n",
       " '</p>']"
      ]
     },
     "execution_count": 12,
     "metadata": {},
     "output_type": "execute_result"
    }
   ],
   "source": [
    "re.findall(r\"<.*?>\", quest_pt)"
   ]
  },
  {
   "cell_type": "code",
   "execution_count": 13,
   "metadata": {},
   "outputs": [
    {
     "name": "stdout",
     "output_type": "stream",
     "text": [
      " T--E--S--T--E Desenvolvi uma página em PHP para uso interno da empresa que trabalho e apenas pouquíssimas pessoas a utilizam. Através dessa página é possível fazer algumas consultas, inserções, alterações e remoções de dados de uma tabela em um banco de dados MySQL, porém eu acredito que meu código em PHP não está protegido contra injeção de código SQL, por exemplo: T--E--S--T--E \n",
      "\n",
      " T--E--S--T--E  T--E--S--T--E //----CONSULTA SQL----//\n",
      "$busca = mysql_query ('insert into Produtos (coluna) values(' . $valor . ')');\n",
      " T--E--S--T--E  T--E--S--T--E \n",
      "\n",
      " T--E--S--T--E Logo, digamos que o usuário usar a sentença:  T--E--S--T--E 1); DROP TABLE Produtos; T--E--S--T--E  para ao campo  T--E--S--T--E valor T--E--S--T--E  o comando ficaria:  T--E--S--T--E \n",
      "\n",
      " T--E--S--T--E  T--E--S--T--E insert into Produtos (coluna) values(1); DROP TABLE Produtos;\n",
      " T--E--S--T--E  T--E--S--T--E \n",
      "\n",
      " T--E--S--T--E Ele vai inserir um novo registro cujo o campo  T--E--S--T--E coluna T--E--S--T--E  será  T--E--S--T--E 1 T--E--S--T--E  e logo em seguida ele vai deletar a tabela Produtos. T--E--S--T--E \n",
      "\n",
      " T--E--S--T--E Como posso melhorar meu código para prevenir essa situação? T--E--S--T--E \n",
      "\n"
     ]
    }
   ],
   "source": [
    "test_text = re.sub(r\"<.*?>\", ' T--E--S--T--E ', quest_pt)\n",
    "print(test_text)"
   ]
  },
  {
   "cell_type": "code",
   "execution_count": 14,
   "metadata": {},
   "outputs": [
    {
     "data": {
      "text/plain": [
       "<re.Match object; span=(16, 18), match='70'>"
      ]
     },
     "execution_count": 14,
     "metadata": {},
     "output_type": "execute_result"
    }
   ],
   "source": [
    "re.search(r'70', '234124801204128070')"
   ]
  },
  {
   "cell_type": "code",
   "execution_count": 16,
   "metadata": {},
   "outputs": [
    {
     "data": {
      "text/plain": [
       "re.compile(r'(coluna)', re.UNICODE)"
      ]
     },
     "execution_count": 16,
     "metadata": {},
     "output_type": "execute_result"
    }
   ],
   "source": [
    "re.compile(r'70')"
   ]
  },
  {
   "attachments": {},
   "cell_type": "markdown",
   "metadata": {},
   "source": [
    "# Limpeza de dados"
   ]
  },
  {
   "attachments": {},
   "cell_type": "markdown",
   "metadata": {},
   "source": [
    "## Funções"
   ]
  },
  {
   "cell_type": "code",
   "execution_count": 48,
   "metadata": {},
   "outputs": [],
   "source": [
    "def remover(texts, regex):\n",
    "    \n",
    "    \"\"\"\n",
    "    # Remover\n",
    "    \"\"\"\n",
    "    if type(texts) == str:\n",
    "        return regex.sub('', texts)\n",
    "    else:\n",
    "        return [regex.sub('', text) for text in texts]\n",
    "    \n",
    "# ----------------------------------------------------------------    \n",
    "def substituir_codigo(texts, regex):\n",
    "    \n",
    "    \"\"\"\n",
    "    # Substituir código:\n",
    "    \"\"\"\n",
    "    if type(texts) == str:\n",
    "        return regex.sub('CODE', texts)\n",
    "    else:\n",
    "        return [regex.sub('CODE', text) for text in texts]\n",
    "    \n",
    "# ----------------------------------------------------------------    \n",
    "def minusuclo(texts):\n",
    "    \n",
    "    \"\"\"\n",
    "    # Minúsculo\n",
    "    \"\"\"\n",
    "    if type(texts) == str:\n",
    "        return texts.lower()\n",
    "    else:\n",
    "        return [text.lower() for text in texts]"
   ]
  },
  {
   "attachments": {},
   "cell_type": "markdown",
   "metadata": {},
   "source": [
    "## Remoção de tags HTML"
   ]
  },
  {
   "cell_type": "code",
   "execution_count": 25,
   "metadata": {},
   "outputs": [
    {
     "data": {
      "text/plain": [
       "\"Desenvolvi uma página em PHP para uso interno da empresa que trabalho e apenas pouquíssimas pessoas a utilizam. Através dessa página é possível fazer algumas consultas, inserções, alterações e remoções de dados de uma tabela em um banco de dados MySQL, porém eu acredito que meu código em PHP não está protegido contra injeção de código SQL, por exemplo:\\n\\n//----CONSULTA SQL----//\\n$busca = mysql_query ('insert into Produtos (coluna) values(' . $valor . ')');\\n\\n\\nLogo, digamos que o usuário usar a sentença: 1); DROP TABLE Produtos; para ao campo valor o comando ficaria: \\n\\ninsert into Produtos (coluna) values(1); DROP TABLE Produtos;\\n\\n\\nEle vai inserir um novo registro cujo o campo coluna será 1 e logo em seguida ele vai deletar a tabela Produtos.\\n\\nComo posso melhorar meu código para prevenir essa situação?\\n\""
      ]
     },
     "execution_count": 25,
     "metadata": {},
     "output_type": "execute_result"
    }
   ],
   "source": [
    "regex_html = re.compile(r'<.*?>')\n",
    "quest_s_tag = remover(quest_pt, regex_html)\n",
    "quest_s_tag"
   ]
  },
  {
   "cell_type": "code",
   "execution_count": 20,
   "metadata": {},
   "outputs": [
    {
     "data": {
      "text/plain": [
       "'Siempre he visto que en JavaScript hay:\\n\\n\\nasignaciones =\\ncomparaciones == y ===\\n\\n\\nCreo entender que == hace algo parecido a comparar el valor de la variable y el === también compara el tipo (como un equals de java). \\n\\n¿Alguien podría confirmarme este punto y extenderlo?. Soy javero y el no tipado de javascript a veces me encanta y otras lo odio.\\n\\n\\n\\n¿Cuál es la manera correcta en javascript de comparar undefined, null y otros valores por defecto? \\n\\nvariable == null\\nvariable === null\\n\\n\\n¿undefined se usa como cadena de texto o como palabra clave? ¿Cual de las siguientes comparaciones es la correcta para un elemento html sin value? (por ejemplo un label sin contenido)\\n\\nvariable == \"undefined\"\\nvariable === \"undefined\"\\nvariable == undefined\\nvariable === undefined\\n\\n'"
      ]
     },
     "execution_count": 20,
     "metadata": {},
     "output_type": "execute_result"
    }
   ],
   "source": [
    "quest_s_tag_es = remover(quest_es, regex_html)\n",
    "quest_s_tag_es"
   ]
  },
  {
   "attachments": {},
   "cell_type": "markdown",
   "metadata": {},
   "source": [
    "## Remoção de códigos em questões"
   ]
  },
  {
   "cell_type": "code",
   "execution_count": 33,
   "metadata": {},
   "outputs": [],
   "source": [
    "regex_codigo = re.compile(r'<code>(.|(\\n))*?</code>')"
   ]
  },
  {
   "cell_type": "code",
   "execution_count": 34,
   "metadata": {},
   "outputs": [
    {
     "data": {
      "text/plain": [
       "'<p>Desenvolvi uma página em PHP para uso interno da empresa que trabalho e apenas pouquíssimas pessoas a utilizam. Através dessa página é possível fazer algumas consultas, inserções, alterações e remoções de dados de uma tabela em um banco de dados MySQL, porém eu acredito que meu código em PHP não está protegido contra injeção de código SQL, por exemplo:</p>\\n\\n<pre>CODE</pre>\\n\\n<p>Logo, digamos que o usuário usar a sentença: CODE para ao campo CODE o comando ficaria: </p>\\n\\n<pre>CODE</pre>\\n\\n<p>Ele vai inserir um novo registro cujo o campo CODE será CODE e logo em seguida ele vai deletar a tabela Produtos.</p>\\n\\n<p>Como posso melhorar meu código para prevenir essa situação?</p>\\n'"
      ]
     },
     "execution_count": 34,
     "metadata": {},
     "output_type": "execute_result"
    }
   ],
   "source": [
    "quest_sem_code = substituir_codigo(quest_pt, regex_codigo)\n",
    "quest_sem_code"
   ]
  },
  {
   "attachments": {},
   "cell_type": "markdown",
   "metadata": {},
   "source": [
    "## Limpeza de colunas"
   ]
  },
  {
   "attachments": {},
   "cell_type": "markdown",
   "metadata": {},
   "source": [
    "### PT"
   ]
  },
  {
   "cell_type": "code",
   "execution_count": 38,
   "metadata": {},
   "outputs": [
    {
     "data": {
      "text/html": [
       "<div>\n",
       "<style scoped>\n",
       "    .dataframe tbody tr th:only-of-type {\n",
       "        vertical-align: middle;\n",
       "    }\n",
       "\n",
       "    .dataframe tbody tr th {\n",
       "        vertical-align: top;\n",
       "    }\n",
       "\n",
       "    .dataframe thead th {\n",
       "        text-align: right;\n",
       "    }\n",
       "</style>\n",
       "<table border=\"1\" class=\"dataframe\">\n",
       "  <thead>\n",
       "    <tr style=\"text-align: right;\">\n",
       "      <th></th>\n",
       "      <th>Id</th>\n",
       "      <th>Título</th>\n",
       "      <th>Questão</th>\n",
       "      <th>Tags</th>\n",
       "      <th>Pontuação</th>\n",
       "      <th>Visualizações</th>\n",
       "      <th>cleaning_1</th>\n",
       "    </tr>\n",
       "  </thead>\n",
       "  <tbody>\n",
       "    <tr>\n",
       "      <th>0</th>\n",
       "      <td>2402</td>\n",
       "      <td>Como fazer hash de senhas de forma segura?</td>\n",
       "      <td>&lt;p&gt;Se eu fizer o &lt;em&gt;&lt;a href=\"http://pt.wikipe...</td>\n",
       "      <td>&lt;hash&gt;&lt;segurança&gt;&lt;senhas&gt;&lt;criptografia&gt;</td>\n",
       "      <td>350</td>\n",
       "      <td>22367</td>\n",
       "      <td>Se eu fizer o hash de senhas antes de armazená...</td>\n",
       "    </tr>\n",
       "    <tr>\n",
       "      <th>1</th>\n",
       "      <td>6441</td>\n",
       "      <td>Qual é a diferença entre INNER JOIN e OUTER JOIN?</td>\n",
       "      <td>&lt;p&gt;Qual é a diferença entre &lt;code&gt;INNER JOIN&lt;/...</td>\n",
       "      <td>&lt;sql&gt;&lt;join&gt;</td>\n",
       "      <td>276</td>\n",
       "      <td>176953</td>\n",
       "      <td>Qual é a diferença entre CODE e CODE? Podem me...</td>\n",
       "    </tr>\n",
       "    <tr>\n",
       "      <th>2</th>\n",
       "      <td>579</td>\n",
       "      <td>Por que não devemos usar funções do tipo mysql_*?</td>\n",
       "      <td>&lt;p&gt;Uma dúvida muito comum é por que devemos pa...</td>\n",
       "      <td>&lt;php&gt;&lt;mysql&gt;</td>\n",
       "      <td>226</td>\n",
       "      <td>9761</td>\n",
       "      <td>Uma dúvida muito comum é por que devemos parar...</td>\n",
       "    </tr>\n",
       "    <tr>\n",
       "      <th>3</th>\n",
       "      <td>2539</td>\n",
       "      <td>As mensagens de erro devem se desculpar?</td>\n",
       "      <td>&lt;p&gt;É comum encontrar uma mensagem de erro que ...</td>\n",
       "      <td>&lt;aplicação-web&gt;&lt;gui&gt;&lt;console&gt;&lt;ux&gt;</td>\n",
       "      <td>214</td>\n",
       "      <td>5075</td>\n",
       "      <td>É comum encontrar uma mensagem de erro que diz...</td>\n",
       "    </tr>\n",
       "    <tr>\n",
       "      <th>4</th>\n",
       "      <td>17501</td>\n",
       "      <td>Qual é a diferença de API, biblioteca e Framew...</td>\n",
       "      <td>&lt;p&gt;Me parecem termos muito próximos e eventual...</td>\n",
       "      <td>&lt;api&gt;&lt;framework&gt;&lt;terminologia&gt;&lt;biblioteca&gt;</td>\n",
       "      <td>193</td>\n",
       "      <td>54191</td>\n",
       "      <td>Me parecem termos muito próximos e eventualmen...</td>\n",
       "    </tr>\n",
       "  </tbody>\n",
       "</table>\n",
       "</div>"
      ],
      "text/plain": [
       "      Id                                             Título  \\\n",
       "0   2402         Como fazer hash de senhas de forma segura?   \n",
       "1   6441  Qual é a diferença entre INNER JOIN e OUTER JOIN?   \n",
       "2    579  Por que não devemos usar funções do tipo mysql_*?   \n",
       "3   2539           As mensagens de erro devem se desculpar?   \n",
       "4  17501  Qual é a diferença de API, biblioteca e Framew...   \n",
       "\n",
       "                                             Questão  \\\n",
       "0  <p>Se eu fizer o <em><a href=\"http://pt.wikipe...   \n",
       "1  <p>Qual é a diferença entre <code>INNER JOIN</...   \n",
       "2  <p>Uma dúvida muito comum é por que devemos pa...   \n",
       "3  <p>É comum encontrar uma mensagem de erro que ...   \n",
       "4  <p>Me parecem termos muito próximos e eventual...   \n",
       "\n",
       "                                         Tags  Pontuação  Visualizações  \\\n",
       "0     <hash><segurança><senhas><criptografia>        350          22367   \n",
       "1                                 <sql><join>        276         176953   \n",
       "2                                <php><mysql>        226           9761   \n",
       "3           <aplicação-web><gui><console><ux>        214           5075   \n",
       "4  <api><framework><terminologia><biblioteca>        193          54191   \n",
       "\n",
       "                                          cleaning_1  \n",
       "0  Se eu fizer o hash de senhas antes de armazená...  \n",
       "1  Qual é a diferença entre CODE e CODE? Podem me...  \n",
       "2  Uma dúvida muito comum é por que devemos parar...  \n",
       "3  É comum encontrar uma mensagem de erro que diz...  \n",
       "4  Me parecem termos muito próximos e eventualmen...  "
      ]
     },
     "execution_count": 38,
     "metadata": {},
     "output_type": "execute_result"
    }
   ],
   "source": [
    "quest_pt_sem_code = substituir_codigo(df_portugues.Questão , regex=regex_codigo)\n",
    "quest_pt_s_code_html = remover(quest_pt_sem_code, regex = regex_html)\n",
    "df_portugues['cleaning_1'] = quest_pt_s_code_html\n",
    "df_portugues.head()"
   ]
  },
  {
   "attachments": {},
   "cell_type": "markdown",
   "metadata": {},
   "source": [
    "### EN"
   ]
  },
  {
   "cell_type": "code",
   "execution_count": 39,
   "metadata": {},
   "outputs": [
    {
     "data": {
      "text/html": [
       "<div>\n",
       "<style scoped>\n",
       "    .dataframe tbody tr th:only-of-type {\n",
       "        vertical-align: middle;\n",
       "    }\n",
       "\n",
       "    .dataframe tbody tr th {\n",
       "        vertical-align: top;\n",
       "    }\n",
       "\n",
       "    .dataframe thead th {\n",
       "        text-align: right;\n",
       "    }\n",
       "</style>\n",
       "<table border=\"1\" class=\"dataframe\">\n",
       "  <thead>\n",
       "    <tr style=\"text-align: right;\">\n",
       "      <th></th>\n",
       "      <th>Id</th>\n",
       "      <th>Título</th>\n",
       "      <th>Questão</th>\n",
       "      <th>Tags</th>\n",
       "      <th>Pontuação</th>\n",
       "      <th>Visualizações</th>\n",
       "      <th>cleaning_1</th>\n",
       "    </tr>\n",
       "  </thead>\n",
       "  <tbody>\n",
       "    <tr>\n",
       "      <th>0</th>\n",
       "      <td>11227809</td>\n",
       "      <td>Why is it faster to process a sorted array tha...</td>\n",
       "      <td>&lt;p&gt;Here is a piece of C++ code that seems very...</td>\n",
       "      <td>&lt;java&gt;&lt;c++&gt;&lt;performance&gt;&lt;optimization&gt;&lt;branch-...</td>\n",
       "      <td>23057</td>\n",
       "      <td>1358574</td>\n",
       "      <td>Here is a piece of C++ code that seems very pe...</td>\n",
       "    </tr>\n",
       "    <tr>\n",
       "      <th>1</th>\n",
       "      <td>927358</td>\n",
       "      <td>How do I undo the most recent local commits in...</td>\n",
       "      <td>&lt;p&gt;I accidentally committed the wrong files to...</td>\n",
       "      <td>&lt;git&gt;&lt;version-control&gt;&lt;git-commit&gt;&lt;undo&gt;</td>\n",
       "      <td>19640</td>\n",
       "      <td>7906137</td>\n",
       "      <td>I accidentally committed the wrong files to Gi...</td>\n",
       "    </tr>\n",
       "    <tr>\n",
       "      <th>2</th>\n",
       "      <td>2003505</td>\n",
       "      <td>How do I delete a Git branch locally and remot...</td>\n",
       "      <td>&lt;p&gt;I want to delete a branch both locally and ...</td>\n",
       "      <td>&lt;git&gt;&lt;git-branch&gt;&lt;git-remote&gt;</td>\n",
       "      <td>15249</td>\n",
       "      <td>6940906</td>\n",
       "      <td>I want to delete a branch both locally and rem...</td>\n",
       "    </tr>\n",
       "    <tr>\n",
       "      <th>3</th>\n",
       "      <td>292357</td>\n",
       "      <td>What is the difference between 'git pull' and ...</td>\n",
       "      <td>&lt;blockquote&gt;\\n  &lt;p&gt;&lt;strong&gt;Moderator Note:&lt;/st...</td>\n",
       "      <td>&lt;git&gt;&lt;git-pull&gt;&lt;git-fetch&gt;</td>\n",
       "      <td>11008</td>\n",
       "      <td>2543052</td>\n",
       "      <td>\\n  Moderator Note: Given that this question h...</td>\n",
       "    </tr>\n",
       "    <tr>\n",
       "      <th>4</th>\n",
       "      <td>477816</td>\n",
       "      <td>What is the correct JSON content type?</td>\n",
       "      <td>&lt;p&gt;I've been messing around with &lt;a href=\"http...</td>\n",
       "      <td>&lt;json&gt;&lt;http-headers&gt;&lt;content-type&gt;</td>\n",
       "      <td>9701</td>\n",
       "      <td>2478940</td>\n",
       "      <td>I've been messing around with JSON for some ti...</td>\n",
       "    </tr>\n",
       "  </tbody>\n",
       "</table>\n",
       "</div>"
      ],
      "text/plain": [
       "         Id                                             Título  \\\n",
       "0  11227809  Why is it faster to process a sorted array tha...   \n",
       "1    927358  How do I undo the most recent local commits in...   \n",
       "2   2003505  How do I delete a Git branch locally and remot...   \n",
       "3    292357  What is the difference between 'git pull' and ...   \n",
       "4    477816             What is the correct JSON content type?   \n",
       "\n",
       "                                             Questão  \\\n",
       "0  <p>Here is a piece of C++ code that seems very...   \n",
       "1  <p>I accidentally committed the wrong files to...   \n",
       "2  <p>I want to delete a branch both locally and ...   \n",
       "3  <blockquote>\\n  <p><strong>Moderator Note:</st...   \n",
       "4  <p>I've been messing around with <a href=\"http...   \n",
       "\n",
       "                                                Tags  Pontuação  \\\n",
       "0  <java><c++><performance><optimization><branch-...      23057   \n",
       "1           <git><version-control><git-commit><undo>      19640   \n",
       "2                      <git><git-branch><git-remote>      15249   \n",
       "3                         <git><git-pull><git-fetch>      11008   \n",
       "4                 <json><http-headers><content-type>       9701   \n",
       "\n",
       "   Visualizações                                         cleaning_1  \n",
       "0        1358574  Here is a piece of C++ code that seems very pe...  \n",
       "1        7906137  I accidentally committed the wrong files to Gi...  \n",
       "2        6940906  I want to delete a branch both locally and rem...  \n",
       "3        2543052  \\n  Moderator Note: Given that this question h...  \n",
       "4        2478940  I've been messing around with JSON for some ti...  "
      ]
     },
     "execution_count": 39,
     "metadata": {},
     "output_type": "execute_result"
    }
   ],
   "source": [
    "quest_en_sem_code = substituir_codigo(df_ingles.Questão , regex=regex_codigo)\n",
    "quest_en_s_code_html = remover(quest_en_sem_code, regex = regex_html)\n",
    "df_ingles['cleaning_1'] = quest_en_s_code_html\n",
    "df_ingles.head()"
   ]
  },
  {
   "attachments": {},
   "cell_type": "markdown",
   "metadata": {},
   "source": [
    "### ES"
   ]
  },
  {
   "cell_type": "code",
   "execution_count": 40,
   "metadata": {},
   "outputs": [
    {
     "data": {
      "text/html": [
       "<div>\n",
       "<style scoped>\n",
       "    .dataframe tbody tr th:only-of-type {\n",
       "        vertical-align: middle;\n",
       "    }\n",
       "\n",
       "    .dataframe tbody tr th {\n",
       "        vertical-align: top;\n",
       "    }\n",
       "\n",
       "    .dataframe thead th {\n",
       "        text-align: right;\n",
       "    }\n",
       "</style>\n",
       "<table border=\"1\" class=\"dataframe\">\n",
       "  <thead>\n",
       "    <tr style=\"text-align: right;\">\n",
       "      <th></th>\n",
       "      <th>Id</th>\n",
       "      <th>Título</th>\n",
       "      <th>Questão</th>\n",
       "      <th>Tags</th>\n",
       "      <th>Pontuação</th>\n",
       "      <th>Visualizações</th>\n",
       "      <th>cleaning_1</th>\n",
       "    </tr>\n",
       "  </thead>\n",
       "  <tbody>\n",
       "    <tr>\n",
       "      <th>0</th>\n",
       "      <td>18232</td>\n",
       "      <td>¿Cómo evitar la inyección SQL en PHP?</td>\n",
       "      <td>&lt;p&gt;Las sentencias dinámicas son sentencias SQL...</td>\n",
       "      <td>&lt;php&gt;&lt;mysql&gt;&lt;sql&gt;&lt;seguridad&gt;&lt;inyección-sql&gt;</td>\n",
       "      <td>169</td>\n",
       "      <td>38614</td>\n",
       "      <td>Las sentencias dinámicas son sentencias SQL qu...</td>\n",
       "    </tr>\n",
       "    <tr>\n",
       "      <th>1</th>\n",
       "      <td>197</td>\n",
       "      <td>¿Por qué mis programas no pueden hacer cálculo...</td>\n",
       "      <td>&lt;p&gt;Unas veces los cálculos funcionan correctam...</td>\n",
       "      <td>&lt;matemáticas&gt;&lt;coma-flotante&gt;&lt;lenguaje-agnóstico&gt;</td>\n",
       "      <td>141</td>\n",
       "      <td>3860</td>\n",
       "      <td>Unas veces los cálculos funcionan correctament...</td>\n",
       "    </tr>\n",
       "    <tr>\n",
       "      <th>2</th>\n",
       "      <td>36</td>\n",
       "      <td>¿Cuál es la diferencia entre un inner y un out...</td>\n",
       "      <td>&lt;p&gt;¿Cuál es la diferencia entre un &lt;code&gt;inner...</td>\n",
       "      <td>&lt;mysql&gt;&lt;sql&gt;&lt;join&gt;</td>\n",
       "      <td>97</td>\n",
       "      <td>53627</td>\n",
       "      <td>¿Cuál es la diferencia entre un CODE y un CODE...</td>\n",
       "    </tr>\n",
       "    <tr>\n",
       "      <th>3</th>\n",
       "      <td>29177</td>\n",
       "      <td>¿Por qué es considerado una mala práctica util...</td>\n",
       "      <td>&lt;p&gt;La mayoría de nosotros decimos, (muchas vec...</td>\n",
       "      <td>&lt;variables&gt;&lt;variables-globales&gt;&lt;patrones-de-di...</td>\n",
       "      <td>89</td>\n",
       "      <td>9987</td>\n",
       "      <td>La mayoría de nosotros decimos, (muchas veces ...</td>\n",
       "    </tr>\n",
       "    <tr>\n",
       "      <th>4</th>\n",
       "      <td>142</td>\n",
       "      <td>Validar un email en JavaScript que acepte todo...</td>\n",
       "      <td>&lt;h3&gt;Pregunta&lt;/h3&gt;\\n\\n&lt;p&gt;¿Cómo validar un e-mai...</td>\n",
       "      <td>&lt;javascript&gt;&lt;validación&gt;&lt;email&gt;&lt;regex&gt;</td>\n",
       "      <td>87</td>\n",
       "      <td>73129</td>\n",
       "      <td>Pregunta\\n\\n¿Cómo validar un e-mail que acepte...</td>\n",
       "    </tr>\n",
       "  </tbody>\n",
       "</table>\n",
       "</div>"
      ],
      "text/plain": [
       "      Id                                             Título  \\\n",
       "0  18232              ¿Cómo evitar la inyección SQL en PHP?   \n",
       "1    197  ¿Por qué mis programas no pueden hacer cálculo...   \n",
       "2     36  ¿Cuál es la diferencia entre un inner y un out...   \n",
       "3  29177  ¿Por qué es considerado una mala práctica util...   \n",
       "4    142  Validar un email en JavaScript que acepte todo...   \n",
       "\n",
       "                                             Questão  \\\n",
       "0  <p>Las sentencias dinámicas son sentencias SQL...   \n",
       "1  <p>Unas veces los cálculos funcionan correctam...   \n",
       "2  <p>¿Cuál es la diferencia entre un <code>inner...   \n",
       "3  <p>La mayoría de nosotros decimos, (muchas vec...   \n",
       "4  <h3>Pregunta</h3>\\n\\n<p>¿Cómo validar un e-mai...   \n",
       "\n",
       "                                                Tags  Pontuação  \\\n",
       "0        <php><mysql><sql><seguridad><inyección-sql>        169   \n",
       "1   <matemáticas><coma-flotante><lenguaje-agnóstico>        141   \n",
       "2                                 <mysql><sql><join>         97   \n",
       "3  <variables><variables-globales><patrones-de-di...         89   \n",
       "4             <javascript><validación><email><regex>         87   \n",
       "\n",
       "   Visualizações                                         cleaning_1  \n",
       "0          38614  Las sentencias dinámicas son sentencias SQL qu...  \n",
       "1           3860  Unas veces los cálculos funcionan correctament...  \n",
       "2          53627  ¿Cuál es la diferencia entre un CODE y un CODE...  \n",
       "3           9987  La mayoría de nosotros decimos, (muchas veces ...  \n",
       "4          73129  Pregunta\\n\\n¿Cómo validar un e-mail que acepte...  "
      ]
     },
     "execution_count": 40,
     "metadata": {},
     "output_type": "execute_result"
    }
   ],
   "source": [
    "quest_es_sem_code = substituir_codigo(df_espanhol.Questão , regex=regex_codigo)\n",
    "quest_es_s_code_html = remover(quest_es_sem_code, regex = regex_html)\n",
    "df_espanhol['cleaning_1'] = quest_es_s_code_html\n",
    "df_espanhol.head()"
   ]
  },
  {
   "attachments": {},
   "cell_type": "markdown",
   "metadata": {},
   "source": [
    "## Remoção de pontuações"
   ]
  },
  {
   "cell_type": "code",
   "execution_count": 45,
   "metadata": {},
   "outputs": [
    {
     "name": "stdout",
     "output_type": "stream",
     "text": [
      "Siempre he visto que en CODE hay\n",
      "\n",
      "\n",
      "asignaciones CODE\n",
      "comparaciones CODE y CODE\n",
      "\n",
      "\n",
      "Creo entender que CODE hace algo parecido a comparar el valor de la variable y el CODE también compara el tipo como un equals de java \n",
      "\n",
      "Alguien podría confirmarme este punto y extenderlo Soy javero y el no tipado de javascript a veces me encanta y otras lo odio\n",
      "\n",
      "\n",
      "\n",
      "Cuál es la manera correcta en javascript de comparar CODE CODE y otros valores por defecto \n",
      "\n",
      "CODE\n",
      "\n",
      "CODE se usa como cadena de texto o como palabra clave Cual de las siguientes comparaciones es la correcta para un elemento CODE sin CODE por ejemplo un label sin contenido\n",
      "\n",
      "CODE\n",
      "\n"
     ]
    }
   ],
   "source": [
    "regex_pontuacao = re.compile(r'[^\\w\\s]')\n",
    "print(remover(quest_es_s_code_html[5], regex_pontuacao))"
   ]
  },
  {
   "cell_type": "code",
   "execution_count": 41,
   "metadata": {},
   "outputs": [
    {
     "data": {
      "text/plain": [
       "'Siempre he visto que en CODE hay:\\n\\n\\nasignaciones CODE\\ncomparaciones CODE y CODE\\n\\n\\nCreo entender que CODE hace algo parecido a comparar el valor de la variable y el CODE también compara el tipo (como un equals de java). \\n\\n¿Alguien podría confirmarme este punto y extenderlo?. Soy javero y el no tipado de javascript a veces me encanta y otras lo odio.\\n\\n\\n\\n¿Cuál es la manera correcta en javascript de comparar CODE, CODE y otros valores por defecto? \\n\\nCODE\\n\\n¿CODE se usa como cadena de texto o como palabra clave? ¿Cual de las siguientes comparaciones es la correcta para un elemento CODE sin CODE? (por ejemplo un label sin contenido)\\n\\nCODE\\n'"
      ]
     },
     "execution_count": 41,
     "metadata": {},
     "output_type": "execute_result"
    }
   ],
   "source": [
    "quest_es_s_code_html[5]"
   ]
  },
  {
   "cell_type": "code",
   "execution_count": 47,
   "metadata": {},
   "outputs": [
    {
     "data": {
      "text/plain": [
       "'siempre he visto que en code hay:\\n\\n\\nasignaciones code\\ncomparaciones code y code\\n\\n\\ncreo entender que code hace algo parecido a comparar el valor de la variable y el code también compara el tipo (como un equals de java). \\n\\n¿alguien podría confirmarme este punto y extenderlo?. soy javero y el no tipado de javascript a veces me encanta y otras lo odio.\\n\\n\\n\\n¿cuál es la manera correcta en javascript de comparar code, code y otros valores por defecto? \\n\\ncode\\n\\n¿code se usa como cadena de texto o como palabra clave? ¿cual de las siguientes comparaciones es la correcta para un elemento code sin code? (por ejemplo un label sin contenido)\\n\\ncode\\n'"
      ]
     },
     "execution_count": 47,
     "metadata": {},
     "output_type": "execute_result"
    }
   ],
   "source": [
    "minusuclo(quest_es_s_code_html[5])"
   ]
  },
  {
   "cell_type": "code",
   "execution_count": 49,
   "metadata": {},
   "outputs": [
    {
     "name": "stdout",
     "output_type": "stream",
     "text": [
      "Meu nome é mikeias e tenho  anos, nascido em /\n"
     ]
    }
   ],
   "source": [
    "regex_digits = re.compile(r'\\d+')"
   ]
  }
 ],
 "metadata": {
  "kernelspec": {
   "display_name": ".env",
   "language": "python",
   "name": "python3"
  },
  "language_info": {
   "codemirror_mode": {
    "name": "ipython",
    "version": 3
   },
   "file_extension": ".py",
   "mimetype": "text/x-python",
   "name": "python",
   "nbconvert_exporter": "python",
   "pygments_lexer": "ipython3",
   "version": "3.10.5"
  },
  "orig_nbformat": 4,
  "vscode": {
   "interpreter": {
    "hash": "0aa55a50146ee049c1ec01c547130774bf38e36954d5c0d245e9b2241bdad46b"
   }
  }
 },
 "nbformat": 4,
 "nbformat_minor": 2
}
